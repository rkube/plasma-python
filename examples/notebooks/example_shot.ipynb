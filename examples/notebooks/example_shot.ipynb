{
 "cells": [
  {
   "cell_type": "markdown",
   "id": "cac03ccf",
   "metadata": {},
   "source": [
    "# Example use of the Shot class\n",
    "\n",
    "The shot class features \n",
    "* A Dictionary / list of the signals within this shot\n",
    "* Pre-processing functionality for the data signals within a shot\n",
    "* Data loading of the signal data (implemented by calling the signal's getter methods)\n",
    "* a Target function that give a time-base.\n",
    "\n",
    "In this notebook we demonstrate how a shot is instantiated and how signals are specified. Then we investigate the internals of the `preprocess` method that loads the data and interpolates it on a common time-base.\n"
   ]
  },
  {
   "cell_type": "code",
   "execution_count": 1,
   "id": "89e6d7e9",
   "metadata": {},
   "outputs": [],
   "source": [
    "%load_ext autoreload\n",
    "%autoreload 2"
   ]
  },
  {
   "cell_type": "code",
   "execution_count": 2,
   "id": "7ab5c2c2",
   "metadata": {},
   "outputs": [],
   "source": [
    "from plasma.primitives.machine import MachineD3D\n",
    "from plasma.data.user_signals import fs07, dens, ip, q95\n",
    "from plasma.primitives.shots import Shot\n",
    "from plasma.utils.processing import resample_signal\n",
    "\n",
    "import numpy as np\n",
    "import matplotlib.pyplot as plt"
   ]
  },
  {
   "cell_type": "code",
   "execution_count": 6,
   "id": "157423ba",
   "metadata": {},
   "outputs": [
    {
     "ename": "AttributeError",
     "evalue": "type object 'MachineD3D' has no attribute 'current_threshold'",
     "output_type": "error",
     "traceback": [
      "\u001b[0;31m---------------------------------------------------------------------------\u001b[0m",
      "\u001b[0;31mAttributeError\u001b[0m                            Traceback (most recent call last)",
      "Input \u001b[0;32mIn [6]\u001b[0m, in \u001b[0;36m<cell line: 1>\u001b[0;34m()\u001b[0m\n\u001b[0;32m----> 1\u001b[0m \u001b[43mMachineD3D\u001b[49m\u001b[38;5;241;43m.\u001b[39;49m\u001b[43mcurrent_threshold\u001b[49m\n",
      "\u001b[0;31mAttributeError\u001b[0m: type object 'MachineD3D' has no attribute 'current_threshold'"
     ]
    }
   ],
   "source": [
    "MachineD3D.current_threshold"
   ]
  },
  {
   "cell_type": "markdown",
   "id": "5d28784b",
   "metadata": {},
   "source": [
    "To instantiate a shot, we only need to provide a shot number, a machine, and a list of signals.\n",
    "All other information, such as `ttd` and `is_disruptive` will be filled in during pre-processing."
   ]
  },
  {
   "cell_type": "code",
   "execution_count": 7,
   "id": "6f949276",
   "metadata": {},
   "outputs": [
    {
     "name": "stdout",
     "output_type": "stream",
     "text": [
      "Signal  filterscope fs07  is of type  <class 'plasma.primitives.signal.Signal'>\n",
      "Signal  Plasma density  is of type  <class 'plasma.primitives.signal.Signal'>\n",
      "Signal  plasma current  is of type  <class 'plasma.primitives.signal.Signal'>\n",
      "Signal  q95 safety factor  is of type  <class 'plasma.primitives.signal.Signal'>\n"
     ]
    }
   ],
   "source": [
    "my_shot = Shot(183462, MachineD3D(), [fs07, dens, ip, q95])\n",
    "\n",
    "# List the signals that are in the shot\n",
    "for s in my_shot.signals:\n",
    "    print(\"Signal \", s, \" is of type \", type(s))"
   ]
  },
  {
   "cell_type": "markdown",
   "id": "e7dc5d05",
   "metadata": {},
   "source": [
    "We now have the shot loaded. Next we walk through the steps\n",
    "in the `preprocess` member function"
   ]
  },
  {
   "cell_type": "code",
   "execution_count": 8,
   "id": "87dd884f",
   "metadata": {},
   "outputs": [],
   "source": [
    "# To pre-process the shot we use the following fields of the\n",
    "# configuration dict\n",
    "\n",
    "dummy_conf = {\"paths\": {\"data\": \"what_is_this\", \"signal_prepath\": \"/projects/FRNN/signal_data_new_2021/\"}, \n",
    "              \"data\": {\"dt\": 0.01, \"T_min_warn\": 0.0},\n",
    "              \"model\": {\"length\": 0.0}}"
   ]
  },
  {
   "cell_type": "code",
   "execution_count": null,
   "id": "f91310e4",
   "metadata": {},
   "outputs": [],
   "source": [
    "# The first step is to load all signals\n",
    "res = my_shot._load_signal_data(dummy_conf)"
   ]
  },
  {
   "cell_type": "code",
   "execution_count": null,
   "id": "f1487214",
   "metadata": {},
   "outputs": [],
   "source": [
    "plt.plot(res[0][0], res[1][0])"
   ]
  },
  {
   "cell_type": "code",
   "execution_count": 7,
   "id": "f0c5ec05",
   "metadata": {},
   "outputs": [
    {
     "data": {
      "text/plain": [
       "[<matplotlib.lines.Line2D at 0x200124695250>]"
      ]
     },
     "execution_count": 7,
     "metadata": {},
     "output_type": "execute_result"
    },
    {
     "data": {
      "image/png": "[encoded data removed]",
      "text/plain": [
       "<Figure size 432x288 with 1 Axes>"
      ]
     },
     "metadata": {
      "needs_background": "light"
     },
     "output_type": "display_data"
    }
   ],
   "source": [
    "plt.plot(res[0][1], res[1][1])"
   ]
  },
  {
   "cell_type": "code",
   "execution_count": 8,
   "id": "2c386c1b",
   "metadata": {},
   "outputs": [
    {
     "name": "stdout",
     "output_type": "stream",
     "text": [
      "-0.049980003 7.9500003 -8.99975 6.99975\n",
      "-0.049980003 6.99975\n"
     ]
    }
   ],
   "source": [
    "# Let's print the minimum and the maximum of the signals we have in our shot\n",
    "print(res[0][0].min(), res[0][0].max(), res[0][1].min(), res[0][1].max())\n",
    "# The global minimum and maximum are also in the result from _load_signal_data\n",
    "print(res[2], res[3])\n",
    "t_min, t_max = res[2], res[3]"
   ]
  },
  {
   "cell_type": "code",
   "execution_count": 9,
   "id": "435e238a",
   "metadata": {},
   "outputs": [
    {
     "data": {
      "text/plain": [
       "((400000,), (400000, 1))"
      ]
     },
     "execution_count": 9,
     "metadata": {},
     "output_type": "execute_result"
    }
   ],
   "source": [
    "res[0][0].shape, res[1][0].shape"
   ]
  },
  {
   "cell_type": "markdown",
   "id": "3cc8b8f4",
   "metadata": {},
   "source": [
    "We now have 2 signals loaded. As a next step we want to put all signals onto a common time-base.\n"
   ]
  },
  {
   "cell_type": "code",
   "execution_count": 14,
   "id": "17bda8fc",
   "metadata": {},
   "outputs": [],
   "source": [
    "for (signal, tb, sig_data) in zip(my_shot.signals, res[0], res[1]):\n",
    "    # Cut the signal to [t_min:t_max]\n",
    "    good_idx = (tb >= t_min) & (tb <= t_max)\n",
    "    tb_x = tb[good_idx]\n",
    "    sig_x = sig_data[good_idx]\n",
    "    # Interpolate on new time-base\n",
    "    tb_rs, sig_rs = resample_signal(tb, sig, t_min, t_max, conf[\"data\"][\"dt\"], self.dtype)\n",
    "#             # Populate signals_dict with the re-sampled \n",
    "#             self.signals_dict[signal] = sig_rs\n",
    "\n",
    "#         # Why to we take only the last time-base and convert to ttd?\n",
    "#         self.ttd = self.convert_to_ttd(tb_rs, conf)"
   ]
  },
  {
   "cell_type": "code",
   "execution_count": 11,
   "id": "c7611544",
   "metadata": {},
   "outputs": [
    {
     "ename": "NameError",
     "evalue": "name 'sig_x' is not defined",
     "output_type": "error",
     "traceback": [
      "\u001b[0;31m---------------------------------------------------------------------------\u001b[0m",
      "\u001b[0;31mNameError\u001b[0m                                 Traceback (most recent call last)",
      "\u001b[1;32m/home/rkube/mnt/traverse/repos/plasma-python/examples/notebooks/example_shot.ipynb Cell 15\u001b[0m in \u001b[0;36m<cell line: 1>\u001b[0;34m()\u001b[0m\n\u001b[0;32m----> <a href='vscode-notebook-cell:/home/rkube/mnt/traverse/repos/plasma-python/examples/notebooks/example_shot.ipynb#ch0000014?line=0'>1</a>\u001b[0m sig_x\u001b[39m.\u001b[39mshape\n",
      "\u001b[0;31mNameError\u001b[0m: name 'sig_x' is not defined"
     ]
    }
   ],
   "source": [
    "sig_x.shape"
   ]
  },
  {
   "cell_type": "code",
   "execution_count": 13,
   "id": "eba43b65",
   "metadata": {},
   "outputs": [
    {
     "data": {
      "text/plain": [
       "(400000, 1)"
      ]
     },
     "execution_count": 13,
     "metadata": {},
     "output_type": "execute_result"
    }
   ],
   "source": [
    "tb.shape"
   ]
  },
  {
   "cell_type": "code",
   "execution_count": 36,
   "id": "18ef7ab2",
   "metadata": {},
   "outputs": [
    {
     "data": {
      "text/plain": [
       "(400000, 1)"
      ]
     },
     "execution_count": 36,
     "metadata": {},
     "output_type": "execute_result"
    }
   ],
   "source": [
    "good_idx.shape"
   ]
  },
  {
   "cell_type": "code",
   "execution_count": null,
   "id": "ec318423",
   "metadata": {},
   "outputs": [],
   "source": [
    "plot(tb)"
   ]
  }
 ],
 "metadata": {
  "kernelspec": {
   "display_name": "Python 3 (ipykernel)",
   "language": "python",
   "name": "python3"
  },
  "language_info": {
   "codemirror_mode": {
    "name": "ipython",
    "version": 3
   },
   "file_extension": ".py",
   "mimetype": "text/x-python",
   "name": "python",
   "nbconvert_exporter": "python",
   "pygments_lexer": "ipython3",
   "version": "3.8.13"
  },
  "vscode": {
   "interpreter": {
    "hash": "31f2aee4e71d21fbe5cf8b01ff0e069b9275f58929596ceb00d14d90e3e16cd6"
   }
  }
 },
 "nbformat": 4,
 "nbformat_minor": 5
}
