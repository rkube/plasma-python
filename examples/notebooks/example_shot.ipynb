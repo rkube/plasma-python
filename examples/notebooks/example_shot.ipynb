{
 "cells": [
  {
   "cell_type": "markdown",
   "id": "cac03ccf",
   "metadata": {},
   "source": [
    "# Example use of the Shot class\n",
    "\n",
    "The shot class features \n",
    "* A Dictionary / list of the signals within this shot\n",
    "* Pre-processing functionality for the data signals within a shot\n",
    "* Data loading of the signal data (implemented by calling the signal's getter methods)\n",
    "* a Target function"
   ]
  },
  {
   "cell_type": "code",
   "execution_count": 14,
   "id": "89e6d7e9",
   "metadata": {},
   "outputs": [
    {
     "name": "stdout",
     "output_type": "stream",
     "text": [
      "The autoreload extension is already loaded. To reload it, use:\n",
      "  %reload_ext autoreload\n"
     ]
    }
   ],
   "source": [
    "%load_ext autoreload\n",
    "%autoreload 2"
   ]
  },
  {
   "cell_type": "code",
   "execution_count": 23,
   "id": "7ab5c2c2",
   "metadata": {},
   "outputs": [],
   "source": [
    "from plasma.primitives.machine import MachineD3D\n",
    "from plasma.data.user_signals import fs07, dens, pradcore\n",
    "from plasma.primitives.shots import Shot\n",
    "\n",
    "import numpy as np"
   ]
  },
  {
   "cell_type": "markdown",
   "id": "5d28784b",
   "metadata": {},
   "source": [
    "When instantiating a shot it is empty"
   ]
  },
  {
   "cell_type": "code",
   "execution_count": 24,
   "id": "6f949276",
   "metadata": {},
   "outputs": [],
   "source": [
    "my_shot = Shot(183463, MachineD3D, [fs07, dens, pradcore])"
   ]
  },
  {
   "cell_type": "code",
   "execution_count": 25,
   "id": "87dd884f",
   "metadata": {},
   "outputs": [],
   "source": [
    "dummy_conf = {\"paths\": {\"data\": \"lalala\", \"signal_prepath\": \"/projects/FRNN/signal_data_new_2021/\"}}"
   ]
  },
  {
   "cell_type": "code",
   "execution_count": null,
   "id": "f91310e4",
   "metadata": {},
   "outputs": [],
   "source": [
    "# We \n",
    "my_shot.load_signal_data(dummy_conf)"
   ]
  },
  {
   "cell_type": "code",
   "execution_count": 12,
   "id": "e35378b4",
   "metadata": {},
   "outputs": [
    {
     "data": {
      "text/plain": [
       "2"
      ]
     },
     "execution_count": 12,
     "metadata": {},
     "output_type": "execute_result"
    }
   ],
   "source": [
    "data.ndim"
   ]
  },
  {
   "cell_type": "code",
   "execution_count": 13,
   "id": "f1487214",
   "metadata": {},
   "outputs": [
    {
     "data": {
      "text/plain": [
       "100"
      ]
     },
     "execution_count": 13,
     "metadata": {},
     "output_type": "execute_result"
    }
   ],
   "source": [
    "data.size"
   ]
  },
  {
   "cell_type": "code",
   "execution_count": null,
   "id": "993546d1",
   "metadata": {},
   "outputs": [],
   "source": []
  }
 ],
 "metadata": {
  "kernelspec": {
   "display_name": "Python 3 (ipykernel)",
   "language": "python",
   "name": "python3"
  },
  "language_info": {
   "codemirror_mode": {
    "name": "ipython",
    "version": 3
   },
   "file_extension": ".py",
   "mimetype": "text/x-python",
   "name": "python",
   "nbconvert_exporter": "python",
   "pygments_lexer": "ipython3",
   "version": "3.8.13"
  }
 },
 "nbformat": 4,
 "nbformat_minor": 5
}
