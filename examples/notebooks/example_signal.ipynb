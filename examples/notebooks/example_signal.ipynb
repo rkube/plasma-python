{
 "cells": [
  {
   "cell_type": "code",
   "execution_count": 1,
   "metadata": {},
   "outputs": [],
   "source": [
    "%load_ext autoreload"
   ]
  },
  {
   "cell_type": "markdown",
   "metadata": {},
   "source": []
  },
  {
   "cell_type": "markdown",
   "metadata": {},
   "source": [
    "# Example of how to load a signal using FRNN loaders\n",
    "This notebook illustrates how instances of the `signal` class can be used to provide\n",
    "access to measurements on the Princeton university clusters."
   ]
  },
  {
   "cell_type": "code",
   "execution_count": 13,
   "metadata": {},
   "outputs": [],
   "source": [
    "\n",
    "from os.path import join\n",
    "import matplotlib.pyplot as plt\n",
    "\n",
    "# Signals are defined on machines. We show how to load D3D data and need to import this machine\n",
    "from plasma.primitives.machine import MachineD3D\n",
    "# This instance provides the definitions of the filterscope data\n",
    "from plasma.data.user_signals import fs07, betan\n",
    "# We also need a shot object that provides information where to load the data from\n",
    "from plasma.primitives.shots import Shot\n"
   ]
  },
  {
   "cell_type": "markdown",
   "metadata": {},
   "source": [
    "First, let's investigate the Machine class. It's main purpose is to be a data structure that identifies which machine a signal lives on. It also provides data loading mechanisms to fetch signal data etc."
   ]
  },
  {
   "cell_type": "code",
   "execution_count": 6,
   "metadata": {},
   "outputs": [
    {
     "data": {
      "text/plain": [
       "'d3d'"
      ]
     },
     "execution_count": 6,
     "metadata": {},
     "output_type": "execute_result"
    }
   ],
   "source": [
    "# Besides data loading mechanisms, Machine classes provide a name that allows to identify them\n",
    "MachineD3D.name"
   ]
  },
  {
   "cell_type": "markdown",
   "metadata": {},
   "source": [
    "To load data into the signal we need to have a dummy-class for a shot.\n",
    "This class just needs to provide a machine and a shot number so that the\n",
    "load methods from the shot know where to fetch data from"
   ]
  },
  {
   "cell_type": "code",
   "execution_count": 26,
   "metadata": {},
   "outputs": [],
   "source": [
    "class dummy_shot():\n",
    "    \"\"\"A dummy shot class that provides a machine and a shot number.\"\"\"\n",
    "    def __init__(self, machine, number):\n",
    "        self.machine = machine\n",
    "        self.number = number\n",
    "\n",
    "my_shot = dummy_shot(MachineD3D, 183463)"
   ]
  },
  {
   "cell_type": "markdown",
   "metadata": {},
   "source": [
    "We now use this class in the data loader methods of the signals we imported on the top.\n",
    "This allows us to load the desired data from txt files on the file system."
   ]
  },
  {
   "cell_type": "code",
   "execution_count": 27,
   "metadata": {},
   "outputs": [
    {
     "data": {
      "text/plain": [
       "[<matplotlib.lines.Line2D at 0x2001246d60a0>]"
      ]
     },
     "execution_count": 27,
     "metadata": {},
     "output_type": "execute_result"
    },
    {
     "data": {
      "image/png": "[encoded data removed]",
      "text/plain": [
       "<Figure size 432x288 with 1 Axes>"
      ]
     },
     "metadata": {
      "needs_background": "light"
     },
     "output_type": "display_data"
    }
   ],
   "source": [
    "# Example 1 / Filterscope data\n",
    "t_fs07, sig_fs07 = fs07.load_data(\"/projects/FRNN/signal_data_new_2021/\", my_shot)\n",
    "plt.plot(t_fs07, sig_fs07)\n"
   ]
  },
  {
   "cell_type": "code",
   "execution_count": 28,
   "metadata": {},
   "outputs": [
    {
     "data": {
      "text/plain": [
       "[<matplotlib.lines.Line2D at 0x200124382e80>]"
      ]
     },
     "execution_count": 28,
     "metadata": {},
     "output_type": "execute_result"
    },
    {
     "data": {
      "image/png": "[encoded data removed]",
      "text/plain": [
       "<Figure size 432x288 with 1 Axes>"
      ]
     },
     "metadata": {
      "needs_background": "light"
     },
     "output_type": "display_data"
    }
   ],
   "source": [
    "# Example 2 / beta n data\n",
    "t_betan, sig_betan = betan.load_data(\"/projects/FRNN/signal_data_new_2021/\", my_shot)\n",
    "plt.plot(t_betan, sig_betan)"
   ]
  },
  {
   "cell_type": "code",
   "execution_count": 25,
   "metadata": {},
   "outputs": [
    {
     "data": {
      "text/plain": [
       "(7823, 1)"
      ]
     },
     "execution_count": 25,
     "metadata": {},
     "output_type": "execute_result"
    }
   ],
   "source": [
    "# The signals are all sampled on their original sampling rate\n",
    "sig_fs07.shape\n",
    "sig_betan.shape"
   ]
  },
  {
   "cell_type": "code",
   "execution_count": null,
   "metadata": {},
   "outputs": [],
   "source": []
  }
 ],
 "metadata": {
  "kernelspec": {
   "display_name": "Python 3 (ipykernel)",
   "language": "python",
   "name": "python3"
  },
  "language_info": {
   "codemirror_mode": {
    "name": "ipython",
    "version": 3
   },
   "file_extension": ".py",
   "mimetype": "text/x-python",
   "name": "python",
   "nbconvert_exporter": "python",
   "pygments_lexer": "ipython3",
   "version": "3.8.13"
  },
  "orig_nbformat": 4,
  "vscode": {
   "interpreter": {
    "hash": "31f2aee4e71d21fbe5cf8b01ff0e069b9275f58929596ceb00d14d90e3e16cd6"
   }
  }
 },
 "nbformat": 4,
 "nbformat_minor": 2
}
